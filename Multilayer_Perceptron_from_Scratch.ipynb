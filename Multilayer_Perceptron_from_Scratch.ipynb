{
  "nbformat": 4,
  "nbformat_minor": 0,
  "metadata": {
    "colab": {
      "provenance": []
    },
    "kernelspec": {
      "name": "python3",
      "display_name": "Python 3"
    },
    "language_info": {
      "name": "python"
    }
  },
  "cells": [
    {
      "cell_type": "code",
      "execution_count": 1,
      "metadata": {
        "colab": {
          "base_uri": "https://localhost:8080/"
        },
        "id": "p_V6QIaymycL",
        "outputId": "8c32217f-407b-405d-eebf-58b86dcf1595"
      },
      "outputs": [
        {
          "output_type": "stream",
          "name": "stderr",
          "text": [
            "/usr/local/lib/python3.11/dist-packages/keras/src/layers/core/dense.py:87: UserWarning: Do not pass an `input_shape`/`input_dim` argument to a layer. When using Sequential models, prefer using an `Input(shape)` object as the first layer in the model instead.\n",
            "  super().__init__(activity_regularizer=activity_regularizer, **kwargs)\n"
          ]
        },
        {
          "output_type": "stream",
          "name": "stdout",
          "text": [
            "Test Accuracy: 0.97\n"
          ]
        }
      ],
      "source": [
        "import tensorflow as tf\n",
        "from sklearn.datasets import load_iris\n",
        "from sklearn.model_selection import train_test_split\n",
        "from sklearn.preprocessing import OneHotEncoder, StandardScaler\n",
        "\n",
        "# Load Iris dataset\n",
        "iris = load_iris()\n",
        "X = iris.data                                           # Features: sepal & petal length/width\n",
        "y = iris.target.reshape(-1, 1)                          # Labels: 0, 1, 2\n",
        "\n",
        "# One-hot encode labels for multi-class classification\n",
        "encoder = OneHotEncoder(sparse_output=False)\n",
        "y_encoded = encoder.fit_transform(y)                    # Convert to one-hot format\n",
        "\n",
        "# Standardize features\n",
        "scaler = StandardScaler()\n",
        "X_scaled = scaler.fit_transform(X)                      # Normalize features\n",
        "\n",
        "# Split into training and testing sets\n",
        "X_train, X_test, y_train, y_test = train_test_split(X_scaled, y_encoded, test_size=0.2, random_state=42)\n",
        "\n",
        "# Define the MLP model\n",
        "model = tf.keras.Sequential([\n",
        "    tf.keras.layers.Dense(10, activation='relu', input_shape=(4,)),   # First hidden layer with 10 ReLU units\n",
        "    tf.keras.layers.Dense(8, activation='relu'),                      # Second hidden layer with 8 ReLU units\n",
        "    tf.keras.layers.Dense(3, activation='softmax')                    # Output layer with softmax for 3 classes\n",
        "])\n",
        "\n",
        "# Compile the model with categorical crossentropy and Adam optimizer\n",
        "model.compile(optimizer='adam', loss='categorical_crossentropy', metrics=['accuracy'])\n",
        "\n",
        "# Train the model\n",
        "model.fit(X_train, y_train, epochs=100, verbose=0)        # Train silently for 100 epochs\n",
        "\n",
        "# Evaluate the model on the test set\n",
        "loss, acc = model.evaluate(X_test, y_test, verbose=0)     # Evaluate model performance\n",
        "print(f\"Test Accuracy: {acc:.2f}\")"
      ]
    }
  ]
}